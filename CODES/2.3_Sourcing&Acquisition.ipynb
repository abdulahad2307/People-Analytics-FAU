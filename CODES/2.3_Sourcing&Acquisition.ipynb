{
 "cells": [
  {
   "cell_type": "markdown",
   "id": "6352262c-2cbb-4eda-a41b-c765478e3126",
   "metadata": {},
   "source": [
    "# 2.3: Data-driven Recruitment"
   ]
  },
  {
   "cell_type": "code",
   "execution_count": 1,
   "id": "51644801-edd9-4856-942e-71feeb0086eb",
   "metadata": {},
   "outputs": [],
   "source": [
    "import pandas as pd\n",
    "from mlxtend.frequent_patterns import apriori, association_rules"
   ]
  },
  {
   "cell_type": "markdown",
   "id": "52c1bbfe-67f6-4350-9ecc-2b63a5f13079",
   "metadata": {},
   "source": [
    "### Loading and Processing Data"
   ]
  },
  {
   "cell_type": "code",
   "execution_count": 2,
   "id": "e5ab8a5f-9251-4035-ba3d-b3c1ff3bb821",
   "metadata": {},
   "outputs": [],
   "source": [
    "# Load the data\n",
    "df = pd.read_csv(\"fau_clinic_recruitment.csv\")"
   ]
  },
  {
   "cell_type": "code",
   "execution_count": 3,
   "id": "56926a40-077f-4b07-a5c1-7958c4c68e21",
   "metadata": {},
   "outputs": [],
   "source": [
    "# Drop irrelevant columns\n",
    "relevant_data = df.drop(columns=['gender', 'location', 'hired', 'family_nurse', 'occupational_health_nursing', 'gerontological_nursing'])\n",
    "\n",
    "# Convert 'experience' column into bins\n",
    "relevant_data['experience'] = pd.cut(relevant_data['experience'], bins=[0, 5, 10, 15, float('inf')], labels=['0-5', '5-10', '10-15', '15+'], right=False)\n"
   ]
  },
  {
   "cell_type": "code",
   "execution_count": 4,
   "id": "927dfcbe-e1c1-4d24-acc1-de3e39d9a510",
   "metadata": {},
   "outputs": [],
   "source": [
    "# One-hot encode the categorical columns\n",
    "relevant_data_encoded = pd.get_dummies(relevant_data, columns=['experience', 'education', 'field'])"
   ]
  },
  {
   "cell_type": "markdown",
   "id": "512a54df-a8ce-41c5-b849-567f5d2fa70c",
   "metadata": {},
   "source": [
    "### Applying Apriori Algorithm"
   ]
  },
  {
   "cell_type": "code",
   "execution_count": 5,
   "id": "b8c60d8f-d74f-4401-ac25-5bfed653b915",
   "metadata": {},
   "outputs": [],
   "source": [
    "# Apply apriori algorithm to find frequent itemsets with support >= 0.02\n",
    "frequent_itemsets = apriori(relevant_data_encoded, min_support=0.02, use_colnames=True)"
   ]
  },
  {
   "cell_type": "markdown",
   "id": "b7c6a0fd-4999-4c0a-a7e6-12d6f3a6567e",
   "metadata": {},
   "source": [
    "### Generating Association Rules"
   ]
  },
  {
   "cell_type": "code",
   "execution_count": 6,
   "id": "48deadae-b1aa-4f30-8f79-18aa4dcef9f6",
   "metadata": {},
   "outputs": [],
   "source": [
    "# Generate association rules\n",
    "rules = association_rules(frequent_itemsets, metric=\"confidence\", min_threshold=0.25)"
   ]
  },
  {
   "cell_type": "code",
   "execution_count": 7,
   "id": "bb8b8a61-eeda-4f47-9945-b58e20d9562d",
   "metadata": {},
   "outputs": [],
   "source": [
    "# Filter rules where the consequent is 'critical_care_nursing'\n",
    "rules_critical_care_nursing = rules[rules['consequents'] == {'critical_care_nursing'}]\n"
   ]
  },
  {
   "cell_type": "code",
   "execution_count": 8,
   "id": "dc018c46-82c1-4e24-b5ba-718ff001ab28",
   "metadata": {},
   "outputs": [],
   "source": [
    "# Sort rules by lift in descending order\n",
    "sorted_rules = rules_critical_care_nursing.sort_values(by=['lift'], ascending=False)"
   ]
  },
  {
   "cell_type": "code",
   "execution_count": 9,
   "id": "67f0bf07-5eeb-4c09-afc7-4543415f91f5",
   "metadata": {},
   "outputs": [
    {
     "name": "stdout",
     "output_type": "stream",
     "text": [
      "                                            antecedents  \\\n",
      "981                   (professional, patience, empathy)   \n",
      "922                     (patience, empathy, confidence)   \n",
      "1034              (patience, education_master, empathy)   \n",
      "311                             (professional, empathy)   \n",
      "1684  (confidence, patience, field_family nurse prac...   \n",
      "\n",
      "                  consequents  antecedent support  consequent support  \\\n",
      "981   (critical_care_nursing)            0.057333            0.097333   \n",
      "922   (critical_care_nursing)            0.062000            0.097333   \n",
      "1034  (critical_care_nursing)            0.087333            0.097333   \n",
      "311   (critical_care_nursing)            0.079333            0.097333   \n",
      "1684  (critical_care_nursing)            0.053333            0.097333   \n",
      "\n",
      "       support  confidence      lift  leverage  conviction  zhangs_metric  \n",
      "981   0.025333    0.441860  4.539662  0.019753    1.617278       0.827142  \n",
      "922   0.025333    0.408602  4.197967  0.019299    1.526327       0.812142  \n",
      "1034  0.034000    0.389313  3.999791  0.025500    1.478117       0.821753  \n",
      "311   0.030000    0.378151  3.885116  0.022278    1.451586       0.806597  \n",
      "1684  0.020000    0.375000  3.852740  0.014809    1.444267       0.782160  \n"
     ]
    }
   ],
   "source": [
    "# Print the top 5 rules\n",
    "print(sorted_rules.head(5))"
   ]
  }
 ],
 "metadata": {
  "kernelspec": {
   "display_name": "Python 3 (ipykernel)",
   "language": "python",
   "name": "python3"
  },
  "language_info": {
   "codemirror_mode": {
    "name": "ipython",
    "version": 3
   },
   "file_extension": ".py",
   "mimetype": "text/x-python",
   "name": "python",
   "nbconvert_exporter": "python",
   "pygments_lexer": "ipython3",
   "version": "3.9.17"
  }
 },
 "nbformat": 4,
 "nbformat_minor": 5
}
