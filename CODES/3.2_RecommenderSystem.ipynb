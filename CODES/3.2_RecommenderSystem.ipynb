{
 "cells": [
  {
   "cell_type": "markdown",
   "id": "ec250dcd-6b41-45b8-97e1-fd556976279b",
   "metadata": {},
   "source": [
    "# 3.2: Recommender System"
   ]
  },
  {
   "cell_type": "code",
   "execution_count": 1,
   "id": "51644801-edd9-4856-942e-71feeb0086eb",
   "metadata": {},
   "outputs": [],
   "source": [
    "#importing necessary libraries.\n",
    "import pandas as pd\n",
    "import numpy as np\n",
    "\n",
    "# import TfidfVector from sklearn.\n",
    "from sklearn.feature_extraction.text import TfidfVectorizer\n",
    "from sklearn.metrics.pairwise import linear_kernel"
   ]
  },
  {
   "cell_type": "markdown",
   "id": "f973f996-7572-4994-853b-b5946e402af3",
   "metadata": {},
   "source": [
    "## Data Loading and Processing"
   ]
  },
  {
   "cell_type": "code",
   "execution_count": 2,
   "id": "f26bef31-48ee-4711-8896-aba803a68384",
   "metadata": {},
   "outputs": [
    {
     "data": {
      "text/plain": [
       "Index(['id', 'teams', 'previous_experience', 'hobbies', 'sports'], dtype='object')"
      ]
     },
     "execution_count": 2,
     "metadata": {},
     "output_type": "execute_result"
    }
   ],
   "source": [
    "employees = pd.read_csv(r\"fau_onboarding.csv\")\n",
    "employees.columns"
   ]
  },
  {
   "cell_type": "code",
   "execution_count": 3,
   "id": "234d675e-509b-4801-8ad7-6dae4c4abc8f",
   "metadata": {},
   "outputs": [],
   "source": [
    "def create_soup(x):\n",
    "    return ''.join(x['teams']) + ''.join(x['hobbies']) + '' + ''.join(x['sports'])\n",
    "employees['soup'] = employees.apply(create_soup, axis=1)"
   ]
  },
  {
   "cell_type": "code",
   "execution_count": 4,
   "id": "69f12482-b43e-4e2a-a7f7-cf84d1f85db4",
   "metadata": {},
   "outputs": [
    {
     "data": {
      "text/plain": [
       "(33, 25)"
      ]
     },
     "execution_count": 4,
     "metadata": {},
     "output_type": "execute_result"
    }
   ],
   "source": [
    "tfidf = TfidfVectorizer(stop_words='english')\n",
    "tfidf_matrix = tfidf.fit_transform(employees['soup'])\n",
    "tfidf_matrix.shape"
   ]
  },
  {
   "cell_type": "code",
   "execution_count": 5,
   "id": "57bd1258-720c-4cc2-8625-c487a43d327c",
   "metadata": {},
   "outputs": [],
   "source": [
    "cosine_sim = linear_kernel(tfidf_matrix, tfidf_matrix)"
   ]
  },
  {
   "cell_type": "code",
   "execution_count": 6,
   "id": "e7edd5a5-b130-4973-8d3b-bd5576ee864f",
   "metadata": {},
   "outputs": [],
   "source": [
    "# construct a reverse map of indices and employee IDs\n",
    "indices = pd.Series(employees.index, index=employees['id']).drop_duplicates()"
   ]
  },
  {
   "cell_type": "code",
   "execution_count": 7,
   "id": "6896c561-9b5a-4723-ba0d-74383b9e7335",
   "metadata": {},
   "outputs": [],
   "source": [
    "def get_recommendations(ID, cosine_sim=cosine_sim):\n",
    "    \n",
    "    # get the index of the employee that matches the employee ID\n",
    "    IDx = indices[ID]\n",
    "    \n",
    "    # get the pairwise similarity scores of all employees with the specified employee ID\n",
    "    sim_scores = list(enumerate(cosine_sim[IDx]))\n",
    "    \n",
    "    # sort employees based on the similarity scores\n",
    "    sim_scores = sorted(sim_scores, key=lambda x: x[1], reverse=True)\n",
    "    \n",
    "    # get the scores of the three most similar employees\n",
    "    sim_scores = sim_scores[1:6]\n",
    "    \n",
    "    # get employee indices\n",
    "    employees_indices = [i[0] for i in sim_scores]\n",
    "    \n",
    "    # return the top five most similar employees\n",
    "    return employees['id'].iloc[employees_indices]"
   ]
  },
  {
   "cell_type": "code",
   "execution_count": 8,
   "id": "bae3461b-810c-497e-9df2-e84598c5fbcd",
   "metadata": {},
   "outputs": [
    {
     "data": {
      "text/plain": [
       "1     emp_002\n",
       "28    emp_029\n",
       "24    emp_025\n",
       "26    emp_027\n",
       "17    emp_018\n",
       "Name: id, dtype: object"
      ]
     },
     "execution_count": 8,
     "metadata": {},
     "output_type": "execute_result"
    }
   ],
   "source": [
    "get_recommendations('emp_033', cosine_sim)"
   ]
  }
 ],
 "metadata": {
  "kernelspec": {
   "display_name": "Python 3 (ipykernel)",
   "language": "python",
   "name": "python3"
  },
  "language_info": {
   "codemirror_mode": {
    "name": "ipython",
    "version": 3
   },
   "file_extension": ".py",
   "mimetype": "text/x-python",
   "name": "python",
   "nbconvert_exporter": "python",
   "pygments_lexer": "ipython3",
   "version": "3.9.17"
  }
 },
 "nbformat": 4,
 "nbformat_minor": 5
}
